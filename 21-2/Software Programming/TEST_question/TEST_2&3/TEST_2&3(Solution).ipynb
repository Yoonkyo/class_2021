{
 "cells": [
  {
   "cell_type": "code",
   "execution_count": 27,
   "metadata": {},
   "outputs": [
    {
     "name": "stdout",
     "output_type": "stream",
     "text": [
      "정수를 입력하시오: 10\n",
      "입력된 정수는 5의 배수입니다\n"
     ]
    }
   ],
   "source": [
    "# 문제 1\n",
    "number = int(input(\"정수를 입력하시오: \"))\n",
    "\n",
    "if number%5 == 0:\n",
    "    print(\"입력된 정수는 5의 배수입니다\")\n",
    "else:\n",
    "    print(\"입력된 정수는 5의 배수가 아닙니다\")"
   ]
  },
  {
   "cell_type": "code",
   "execution_count": 28,
   "metadata": {},
   "outputs": [
    {
     "name": "stdout",
     "output_type": "stream",
     "text": [
      "첫 번째 정수: 10\n",
      "두 번째 정수: 20\n",
      "차이: 10\n"
     ]
    }
   ],
   "source": [
    "# 문제 2\n",
    "x = int(input(\"첫 번째 정수: \"))\n",
    "y = int(input(\"두 번째 정수: \"))\n",
    "\n",
    "if x > y:\n",
    "    diff = x - y\n",
    "else:\n",
    "    diff = y - x\n",
    "print(\"차이:\", diff);"
   ]
  },
  {
   "cell_type": "code",
   "execution_count": 29,
   "metadata": {},
   "outputs": [
    {
     "name": "stdout",
     "output_type": "stream",
     "text": [
      "성적을 입력하시오: 65\n",
      "휴가 취소\n"
     ]
    }
   ],
   "source": [
    "# 문제 3\n",
    "score = int(input(\"성적을 입력하시오: \"))\n",
    "\n",
    "if score >= 90:\n",
    "    print(\"휴가 4주\")\n",
    "elif score >= 70:\n",
    "    print(\"휴가 3주\")\n",
    "else:\n",
    "    print(\"휴가 취소\")"
   ]
  },
  {
   "cell_type": "code",
   "execution_count": 3,
   "metadata": {},
   "outputs": [
    {
     "name": "stdout",
     "output_type": "stream",
     "text": [
      "국가를 입력하시오: 미국\n",
      "지역을 입력하시오: 오레곤\n",
      "배송료는 20000원입니다.\n"
     ]
    }
   ],
   "source": [
    "# 문제 4\n",
    "country = input(\"국가를 입력하시오: \")\n",
    "city = input(\"지역을 입력하시오: \")\n",
    "if country == \"한국\":\n",
    "    if city != \"제주도\":\n",
    "        print(\"배송료는 5000원입니다.\")\n",
    "    else:\n",
    "        print(\"배송료는 10000원입니다.\")\n",
    "else:\n",
    "    print(\"배송료는 20000원입니다.\")"
   ]
  },
  {
   "cell_type": "code",
   "execution_count": 4,
   "metadata": {},
   "outputs": [
    {
     "name": "stdout",
     "output_type": "stream",
     "text": [
      "숫자를 입력하세요: 8\n",
      "8 일 후의 요일: 화요일\n"
     ]
    }
   ],
   "source": [
    "# 문제 5\n",
    "days = [\"월요일\", \"화요일\", \"수요일\", \"목요일\", \"금요일\", \"토요일\", \"일요일\"]\n",
    "n = int(input(\"숫자를 입력하세요: \"))\n",
    "day = n%7\n",
    "print(n, \"일 후의 요일:\", days[day])"
   ]
  },
  {
   "cell_type": "code",
   "execution_count": 3,
   "metadata": {
    "scrolled": true
   },
   "outputs": [
    {
     "name": "stdout",
     "output_type": "stream",
     "text": [
      "어디까지 계산할까요: 11\n",
      "1부터 11 까지 3의 배수의 합 = 30\n"
     ]
    }
   ],
   "source": [
    "# 문제 6\n",
    "\n",
    "sum_result = 0\n",
    "limit=int(input(\"어디까지 계산할까요: \"))\n",
    "\n",
    "for i in range(3, limit+1, 3) :\n",
    "    sum_result += i\n",
    "\n",
    "print(\"1부터\", limit, \"까지 3의 배수의 합 =\", sum_result)"
   ]
  },
  {
   "cell_type": "code",
   "execution_count": 23,
   "metadata": {},
   "outputs": [
    {
     "name": "stdout",
     "output_type": "stream",
     "text": [
      "10 mile -> 16.09 km\n",
      "20 mile -> 32.18 km\n",
      "30 mile -> 48.27 km\n",
      "40 mile -> 64.36 km\n",
      "50 mile -> 80.45 km\n",
      "60 mile -> 96.54 km\n",
      "70 mile -> 112.63 km\n",
      "80 mile -> 128.72 km\n",
      "90 mile -> 144.81 km\n"
     ]
    }
   ],
   "source": [
    "# 문제 7\n",
    "\n",
    "for mile in range(10, 90+1, 10):\n",
    "    km = mile * 1.609\n",
    "    print(mile,\"mile\", \"->\", round(km, 2),\"km\")"
   ]
  },
  {
   "cell_type": "code",
   "execution_count": 15,
   "metadata": {},
   "outputs": [
    {
     "name": "stdout",
     "output_type": "stream",
     "text": [
      "숫자를 입력하세요: 1234\n",
      "자리수의 곱은 24입니다.\n"
     ]
    }
   ],
   "source": [
    "# 문제 8\n",
    "\n",
    "# Solution 1\n",
    "a = int(input(\"숫자를 입력하세요: \"))\n",
    "result = 1\n",
    "while a > 0 :\n",
    "    digit = a % 10\n",
    "    result = result * digit\n",
    "    a = a // 10\n",
    "print(\"자리수의 곱은 %d입니다.\" % result)"
   ]
  },
  {
   "cell_type": "code",
   "execution_count": 18,
   "metadata": {},
   "outputs": [
    {
     "name": "stdout",
     "output_type": "stream",
     "text": [
      "숫자를 입력하세요: 3407\n",
      "자리수의 곱은 0입니다.\n"
     ]
    }
   ],
   "source": [
    "# 문제 8\n",
    "\n",
    "# Solution 2\n",
    "number = input(\"숫자를 입력하세요: \")\n",
    "result = 1\n",
    "for i in str(number):\n",
    "    result *= int(i)\n",
    "print(\"자리수의 곱은 %d입니다.\" % result)"
   ]
  },
  {
   "cell_type": "code",
   "execution_count": 25,
   "metadata": {},
   "outputs": [
    {
     "name": "stdout",
     "output_type": "stream",
     "text": [
      "번호를 입력하세요: 010-1234-5678\n",
      "010 1234 5678\n"
     ]
    }
   ],
   "source": [
    "# 문제 9\n",
    "\n",
    "phone = input(\"번호를 입력하세요: \")\n",
    "processed = \"\"\n",
    "\n",
    "for c in phone:\n",
    "    if c != \"-\":\n",
    "        processed = processed + c\n",
    "    else:\n",
    "        processed = processed + \" \"\n",
    "print(processed)"
   ]
  },
  {
   "cell_type": "code",
   "execution_count": 5,
   "metadata": {},
   "outputs": [
    {
     "name": "stdout",
     "output_type": "stream",
     "text": [
      "구구단 몇 단? 6\n",
      "6 X 9 = 54\n",
      "6 X 8 = 48\n",
      "6 X 7 = 42\n",
      "6 X 6 = 36\n",
      "6 X 5 = 30\n",
      "6 X 4 = 24\n",
      "6 X 3 = 18\n",
      "6 X 2 = 12\n",
      "6 X 1 = 6\n"
     ]
    }
   ],
   "source": [
    "# 문제 10\n",
    "dan = int(input(\"구구단 몇 단? \"))\n",
    "for i in range(9, 0, -1):\n",
    "    print(dan, \"X\", i, \"=\", dan*i)"
   ]
  }
 ],
 "metadata": {
  "kernelspec": {
   "display_name": "Python 3",
   "language": "python",
   "name": "python3"
  },
  "language_info": {
   "codemirror_mode": {
    "name": "ipython",
    "version": 3
   },
   "file_extension": ".py",
   "mimetype": "text/x-python",
   "name": "python",
   "nbconvert_exporter": "python",
   "pygments_lexer": "ipython3",
   "version": "3.8.5"
  }
 },
 "nbformat": 4,
 "nbformat_minor": 2
}
