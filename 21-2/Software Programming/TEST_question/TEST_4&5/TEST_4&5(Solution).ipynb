{
 "cells": [
  {
   "cell_type": "code",
   "execution_count": 1,
   "metadata": {},
   "outputs": [
    {
     "name": "stdout",
     "output_type": "stream",
     "text": [
      "4.0\n"
     ]
    }
   ],
   "source": [
    "# 문제 1\n",
    "\n",
    "def root(n):\n",
    "    return(n**(1/2))\n",
    "print(root(16))"
   ]
  },
  {
   "cell_type": "code",
   "execution_count": 2,
   "metadata": {},
   "outputs": [
    {
     "name": "stdout",
     "output_type": "stream",
     "text": [
      "정수를 입력하시오: 73\n",
      "True\n"
     ]
    }
   ],
   "source": [
    "# 문제 2\n",
    "\n",
    "def is_odd(n):\n",
    "    if n%2 == 0:\n",
    "        return False\n",
    "    return True\n",
    "\n",
    "n = int(input(\"정수를 입력하시오: \"))\n",
    "print(is_odd(n))"
   ]
  },
  {
   "cell_type": "code",
   "execution_count": 3,
   "metadata": {},
   "outputs": [
    {
     "name": "stdout",
     "output_type": "stream",
     "text": [
      "30\n"
     ]
    }
   ],
   "source": [
    "# 문제 3\n",
    "\n",
    "def get_sum(start, end):\n",
    "    sum_value = 0\n",
    "    for i in range(start, end+1):\n",
    "        if i%2 == 0:\n",
    "            sum_value = sum_value+i\n",
    "    return sum_value\n",
    "\n",
    "print(get_sum(1, 10))"
   ]
  },
  {
   "cell_type": "code",
   "execution_count": 4,
   "metadata": {},
   "outputs": [
    {
     "name": "stdout",
     "output_type": "stream",
     "text": [
      "(8, -2, 15, 0.6)\n"
     ]
    }
   ],
   "source": [
    "# 문제 4\n",
    "def calculate(x, y):\n",
    "    a = x+y\n",
    "    b = x-y\n",
    "    c = x*y\n",
    "    d = x/y\n",
    "    return a,b,c,d\n",
    "\n",
    "print(calculate(3,5))"
   ]
  },
  {
   "cell_type": "code",
   "execution_count": 5,
   "metadata": {},
   "outputs": [
    {
     "name": "stdout",
     "output_type": "stream",
     "text": [
      "Happy Birthday To You\n"
     ]
    }
   ],
   "source": [
    "# 문제 5\n",
    "\n",
    "def modify1(s):\n",
    "    s += \" To You\"\n",
    "    return s\n",
    "\n",
    "msg = \"Happy Birthday\"\n",
    "new_msg = modify1(msg)\n",
    "print(new_msg)"
   ]
  },
  {
   "cell_type": "code",
   "execution_count": 6,
   "metadata": {},
   "outputs": [
    {
     "name": "stdout",
     "output_type": "stream",
     "text": [
      "['apple', 'lemon', 'melon', 'strawberry', 'banana']\n"
     ]
    }
   ],
   "source": [
    "# 문제 6\n",
    "\n",
    "a = [\"apple\", \"orange\", \"melon\", \"strawberry\", \"banana\"]\n",
    "a[1] = \"lemon\"\n",
    "print(a)"
   ]
  },
  {
   "cell_type": "code",
   "execution_count": 7,
   "metadata": {},
   "outputs": [
    {
     "name": "stdout",
     "output_type": "stream",
     "text": [
      "성적을 입력하시오: 10\n",
      "성적을 입력하시오: 20\n",
      "성적을 입력하시오: 80\n",
      "성적을 입력하시오: 60\n",
      "성적 리스트: [10, 20, 80, 60]\n",
      "80점 이상 성적을 받은 학생은 1 명입니다.\n"
     ]
    }
   ],
   "source": [
    "# 문제 7\n",
    "scores = []\n",
    "highscore = 0\n",
    "for i in range(4):\n",
    "    score = int(input(\"성적을 입력하시오: \"))\n",
    "    scores.append(score)\n",
    "    if score >= 80:\n",
    "        highscore += 1\n",
    "print(\"성적 리스트:\",scores)\n",
    "print(\"80점 이상 성적을 받은 학생은\", highscore, \"명입니다.\")"
   ]
  },
  {
   "cell_type": "code",
   "execution_count": 11,
   "metadata": {},
   "outputs": [
    {
     "name": "stdout",
     "output_type": "stream",
     "text": [
      "[4, 9, 16, 25]\n"
     ]
    }
   ],
   "source": [
    "# 문제 8\n",
    "squares = [36, 4, 16, 9, 25, 1]\n",
    "squares.sort()\n",
    "print(squares[1:5])"
   ]
  },
  {
   "cell_type": "code",
   "execution_count": 9,
   "metadata": {},
   "outputs": [
    {
     "name": "stdout",
     "output_type": "stream",
     "text": [
      "['스파이더맨', '슈퍼맨', '헐크', '아이언맨', '배트맨']\n"
     ]
    }
   ],
   "source": [
    "# 문제 9\n",
    "\n",
    "heroes = [\"스파이더맨\", \"조커\", \"슈퍼맨\", \"헐크\", \"아이언맨\", \"배트맨\", \"조커\"]\n",
    "while \"조커\" in heroes:\n",
    "    heroes.remove(\"조커\")\n",
    "print(heroes)"
   ]
  },
  {
   "cell_type": "code",
   "execution_count": 10,
   "metadata": {},
   "outputs": [
    {
     "name": "stdout",
     "output_type": "stream",
     "text": [
      "[[2, 4, 6, 8, 10, 12, 14, 16, 18], [3, 6, 9, 12, 15, 18, 21, 24, 27], [4, 8, 12, 16, 20, 24, 28, 32, 36], [5, 10, 15, 20, 25, 30, 35, 40, 45], [6, 12, 18, 24, 30, 36, 42, 48, 54], [7, 14, 21, 28, 35, 42, 49, 56, 63], [8, 16, 24, 32, 40, 48, 56, 64, 72], [9, 18, 27, 36, 45, 54, 63, 72, 81]]\n"
     ]
    }
   ],
   "source": [
    "# 문제 10\n",
    "\n",
    "rows = 8\n",
    "cols = 9\n",
    "table = [ ]\n",
    "\n",
    "# 2차원 리스트를 생성한다. \n",
    "for row in range(rows): \n",
    "    table += [[0]*cols]\n",
    "\n",
    "# 2차원 리스트의 각 요소에 rows와 cols 값을 더하여 저장한다. \n",
    "for row in range(rows): \n",
    "    for col in range(cols): \n",
    "        table[row][col] = (row+2)*(col+1) \n",
    "\n",
    "print(table)"
   ]
  }
 ],
 "metadata": {
  "kernelspec": {
   "display_name": "Python 3",
   "language": "python",
   "name": "python3"
  },
  "language_info": {
   "codemirror_mode": {
    "name": "ipython",
    "version": 3
   },
   "file_extension": ".py",
   "mimetype": "text/x-python",
   "name": "python",
   "nbconvert_exporter": "python",
   "pygments_lexer": "ipython3",
   "version": "3.8.5"
  }
 },
 "nbformat": 4,
 "nbformat_minor": 2
}
