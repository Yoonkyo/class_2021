{
 "cells": [
  {
   "cell_type": "code",
   "execution_count": 4,
   "metadata": {},
   "outputs": [
    {
     "name": "stdout",
     "output_type": "stream",
     "text": [
      "문자를 입력하세요: 생도\n",
      "반복 횟수: 5\n",
      "결과: 생도생도생도생도생도\n"
     ]
    }
   ],
   "source": [
    "# 문제 1 (5점)\n",
    "x = input(\"문자를 입력하세요: \")\n",
    "y = int(input(\"반복 횟수: \"))\n",
    "new_string = x * y\n",
    "print(\"결과:\", new_string)"
   ]
  },
  {
   "cell_type": "code",
   "execution_count": 6,
   "metadata": {
    "scrolled": true
   },
   "outputs": [
    {
     "name": "stdout",
     "output_type": "stream",
     "text": [
      "어디까지 계산할까요: 18\n",
      "1부터 18 까지의 5의 배수의 곱 = 750\n"
     ]
    }
   ],
   "source": [
    "# 문제 2 (5점)\n",
    "sum_value = 1\n",
    "limit=int(input(\"어디까지 계산할까요: \"))\n",
    "\n",
    "for i in range(5, limit+1, 5) :\n",
    "    sum_value *= i\n",
    "\n",
    "print(\"1부터\", limit, \"까지의 5의 배수의 곱 =\", sum_value)"
   ]
  },
  {
   "cell_type": "code",
   "execution_count": 2,
   "metadata": {},
   "outputs": [
    {
     "name": "stdout",
     "output_type": "stream",
     "text": [
      "1000원권 개수: 6\n",
      "물건값: 2600\n",
      "500원 동전의 개수: 6\n",
      "100원 동전의 개수: 4\n"
     ]
    }
   ],
   "source": [
    "# 문제 3 (10점)\n",
    "\n",
    "bill = int(input(\"1000원권 개수: \"))\n",
    "price = int(input(\"물건값: \"))\n",
    "\n",
    "change = bill*1000 - price\n",
    "coin500s = change // 500\n",
    "change = change % 500\n",
    "coin100s = change // 100\n",
    "\n",
    "print(\"500원 동전의 개수:\", coin500s)\n",
    "print(\"100원 동전의 개수:\", coin100s)"
   ]
  },
  {
   "cell_type": "code",
   "execution_count": 23,
   "metadata": {},
   "outputs": [
    {
     "name": "stdout",
     "output_type": "stream",
     "text": [
      "숫자를 입력하세요: 13\n",
      "13 일 전의 요일: 목요일\n"
     ]
    }
   ],
   "source": [
    "# 문제 4 (10점)\n",
    "\n",
    "days = [\"월요일\", \"화요일\", \"수요일\", \"목요일\", \"금요일\", \"토요일\", \"일요일\" ]\n",
    "n = int(input(\"숫자를 입력하세요: \"))\n",
    "day =  (2-n)%7\n",
    "print(n,\"일 전의 요일:\", days[day])"
   ]
  },
  {
   "cell_type": "code",
   "execution_count": 25,
   "metadata": {},
   "outputs": [
    {
     "name": "stdout",
     "output_type": "stream",
     "text": [
      "구입 금액을 입력하시오: 50000\n",
      "결제 수단을 입력하시오: 현금\n",
      "지불 금액은 45000.0 입니다.\n"
     ]
    }
   ],
   "source": [
    "# 문제 5 (10점)\n",
    "\n",
    "total_sales = int(input(\"구입 금액을 입력하시오: \"))\n",
    "payment = input(\"결제 수단을 입력하시오: \")\n",
    "if total_sales >= 50000 :\n",
    "    if payment == '현금':\n",
    "        total_sales = total_sales * 0.9\n",
    "print(\"지불 금액은\", total_sales, \"입니다.\")"
   ]
  },
  {
   "cell_type": "code",
   "execution_count": 28,
   "metadata": {},
   "outputs": [
    {
     "name": "stdout",
     "output_type": "stream",
     "text": [
      "첫번째 숫자: 347\n",
      "두번째 숫자: 89\n",
      "645\n"
     ]
    }
   ],
   "source": [
    "# 문제 6 (10점)\n",
    "\n",
    "a = input(\"첫번째 숫자: \")\n",
    "b = input(\"두번째 숫자: \")\n",
    "\n",
    "a_reverse = int(a[::-1])\n",
    "b_reverse = int(b[::-1])\n",
    "print(abs(a_reverse - b_reverse))"
   ]
  },
  {
   "cell_type": "code",
   "execution_count": 30,
   "metadata": {},
   "outputs": [
    {
     "name": "stdout",
     "output_type": "stream",
     "text": [
      "번역할 문장을 입력하시오: 교육망 와이파이가 또 whyrano\n",
      "교육망 와이파이가 또 왜 이러니 \n",
      "변환된 신조어: whyrano\n"
     ]
    }
   ],
   "source": [
    "# 문제 7 (10점)\n",
    "\n",
    "table = { \"머선129\":\"무슨 일이야\", \"whyrano\":\"왜 이러니\", \"군싹\":\"군침이 싹 도노\"}\n",
    "\n",
    "message = input('번역할 문장을 입력하시오: ')\n",
    "words = message.split()\n",
    "result = \"\"\n",
    "mime = \"\"\n",
    "for word in words:\n",
    "    if word in table:\n",
    "        result += table[word] + \" \"\n",
    "        mime = word\n",
    "    else:\n",
    "        result += word + \" \"\n",
    "\n",
    "print(result)\n",
    "print(\"변환된 신조어:\", mime)"
   ]
  },
  {
   "cell_type": "code",
   "execution_count": 31,
   "metadata": {},
   "outputs": [
    {
     "name": "stdout",
     "output_type": "stream",
     "text": [
      "파티에 1번 이상 참석한 사람: {'Park', 'Choi', 'Kim', 'Lee'}\n"
     ]
    }
   ],
   "source": [
    "# 문제 8 (10점)\n",
    "\n",
    "A = {\"Park\", \"Kim\", \"Lee\"}\n",
    "B = {\"Park\", \"Choi\"}\n",
    "print(\"파티에 1번 이상 참석한 사람:\", A | B)"
   ]
  },
  {
   "cell_type": "code",
   "execution_count": 32,
   "metadata": {},
   "outputs": [
    {
     "name": "stdout",
     "output_type": "stream",
     "text": [
      "문자열을 입력하시오: AirForce\n",
      "['r', 'F', 'r', 'c']\n"
     ]
    }
   ],
   "source": [
    "# 문제 9 (15점)\n",
    "\n",
    "original = input('문자열을 입력하시오: ')\n",
    "consonants = []\n",
    "\n",
    "for char in original:\n",
    "    check_char = char.lower()\n",
    "    if check_char not in 'aeiou':\n",
    "        consonants.append(char)\n",
    "\n",
    "print(consonants)"
   ]
  },
  {
   "cell_type": "code",
   "execution_count": 41,
   "metadata": {},
   "outputs": [
    {
     "name": "stdout",
     "output_type": "stream",
     "text": [
      "성적을 입력하세요: 50 65 85 70 40\n",
      "성적 리스트: [40, 50, 65, 70, 85]\n",
      "성적 평균: 62.0\n"
     ]
    }
   ],
   "source": [
    "# 문제 10 (15점)\n",
    "\n",
    "scores = input('성적을 입력하세요: ')\n",
    "scores_str = sorted(scores.split(\" \"))\n",
    "scores_list = []\n",
    "scores_sum = 0\n",
    "for i in scores_str:\n",
    "    scores_list.append(int(i))\n",
    "    scores_sum += int(i)\n",
    "print(\"성적 리스트:\",scores_list)\n",
    "print(\"성적 평균:\", scores_sum/len(scores_list))"
   ]
  }
 ],
 "metadata": {
  "kernelspec": {
   "display_name": "Python 3",
   "language": "python",
   "name": "python3"
  },
  "language_info": {
   "codemirror_mode": {
    "name": "ipython",
    "version": 3
   },
   "file_extension": ".py",
   "mimetype": "text/x-python",
   "name": "python",
   "nbconvert_exporter": "python",
   "pygments_lexer": "ipython3",
   "version": "3.8.5"
  }
 },
 "nbformat": 4,
 "nbformat_minor": 4
}
