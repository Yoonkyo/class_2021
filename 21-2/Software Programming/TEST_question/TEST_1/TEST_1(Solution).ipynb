{
 "cells": [
  {
   "cell_type": "code",
   "execution_count": null,
   "metadata": {
    "scrolled": true
   },
   "outputs": [],
   "source": [
    "# 문제 1\n",
    "\n",
    "x = int(input(\"첫번째 정수: \"))\n",
    "y = int(input(\"두번째 정수: \"))\n",
    "z = int(input(\"세번째 정수: \"))\n",
    "result = max(x,y,z)-min(x,y,z)\n",
    "print(\"최대값과 최솟값의 차이:\", result)"
   ]
  },
  {
   "cell_type": "code",
   "execution_count": null,
   "metadata": {},
   "outputs": [],
   "source": [
    "# 문제 2\n",
    "\n",
    "number = int(input(\"숫자를 입력하세요: \"))\n",
    "print(\"몫:\", number//6)\n",
    "print(\"나머지:\", number%6)"
   ]
  },
  {
   "cell_type": "code",
   "execution_count": null,
   "metadata": {},
   "outputs": [],
   "source": [
    "# 문제 3\n",
    "\n",
    "a = input(\"중대를 입력하세요: \")\n",
    "b = input(\"학년를 입력하세요: \")\n",
    "c = input(\"이름를 입력하세요: \")\n",
    "print(\"필승! %s중대 %s학년 %s 생도입니다.\" % (a,b,c))"
   ]
  },
  {
   "cell_type": "code",
   "execution_count": null,
   "metadata": {},
   "outputs": [],
   "source": [
    "# 문제 4\n",
    "\n",
    "dessert = ['pie', 'cake', 'egg', 'milk', 'salad']\n",
    "print(dessert[3])"
   ]
  },
  {
   "cell_type": "code",
   "execution_count": 5,
   "metadata": {},
   "outputs": [
    {
     "name": "stdout",
     "output_type": "stream",
     "text": [
      "2 시간 46 분 40 초\n"
     ]
    }
   ],
   "source": [
    "# 문제 5\n",
    "\n",
    "s = int(input(\"시간을 입력하세요: \"))\n",
    "m = s//60\n",
    "hour = m//60\n",
    "minute = m%60\n",
    "second = s%60\n",
    "print(hour,'시간',minute, '분', second, '초')"
   ]
  }
 ],
 "metadata": {
  "kernelspec": {
   "display_name": "Python 3",
   "language": "python",
   "name": "python3"
  },
  "language_info": {
   "codemirror_mode": {
    "name": "ipython",
    "version": 3
   },
   "file_extension": ".py",
   "mimetype": "text/x-python",
   "name": "python",
   "nbconvert_exporter": "python",
   "pygments_lexer": "ipython3",
   "version": "3.8.5"
  }
 },
 "nbformat": 4,
 "nbformat_minor": 2
}
